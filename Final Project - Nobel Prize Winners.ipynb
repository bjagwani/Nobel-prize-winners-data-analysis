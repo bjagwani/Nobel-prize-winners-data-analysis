{
 "cells": [
  {
   "cell_type": "markdown",
   "metadata": {},
   "source": [
    "# Final Project - Nobel Prize Winners"
   ]
  },
  {
   "cell_type": "markdown",
   "metadata": {},
   "source": [
    "<i> Group members: Bhupinder Jagwani, Qurat Ul Ain Syeda, Summer (Yong) Zhao</i>"
   ]
  },
  {
   "cell_type": "code",
   "execution_count": 29,
   "metadata": {},
   "outputs": [],
   "source": [
    "import pandas as pd\n",
    "import seaborn as sns"
   ]
  },
  {
   "cell_type": "code",
   "execution_count": 30,
   "metadata": {},
   "outputs": [
    {
     "data": {
      "text/html": [
       "<div>\n",
       "<style scoped>\n",
       "    .dataframe tbody tr th:only-of-type {\n",
       "        vertical-align: middle;\n",
       "    }\n",
       "\n",
       "    .dataframe tbody tr th {\n",
       "        vertical-align: top;\n",
       "    }\n",
       "\n",
       "    .dataframe thead th {\n",
       "        text-align: right;\n",
       "    }\n",
       "</style>\n",
       "<table border=\"1\" class=\"dataframe\">\n",
       "  <thead>\n",
       "    <tr style=\"text-align: right;\">\n",
       "      <th></th>\n",
       "      <th>Year</th>\n",
       "      <th>Category</th>\n",
       "      <th>Prize</th>\n",
       "      <th>Motivation</th>\n",
       "      <th>Prize Share</th>\n",
       "      <th>Laureate ID</th>\n",
       "      <th>Laureate Type</th>\n",
       "      <th>Full Name</th>\n",
       "      <th>Birth Date</th>\n",
       "      <th>Birth City</th>\n",
       "      <th>Birth Country</th>\n",
       "      <th>Sex</th>\n",
       "      <th>Organization Name</th>\n",
       "      <th>Organization City</th>\n",
       "      <th>Organization Country</th>\n",
       "      <th>Death Date</th>\n",
       "      <th>Death City</th>\n",
       "      <th>Death Country</th>\n",
       "    </tr>\n",
       "  </thead>\n",
       "  <tbody>\n",
       "    <tr>\n",
       "      <th>0</th>\n",
       "      <td>1901</td>\n",
       "      <td>Chemistry</td>\n",
       "      <td>The Nobel Prize in Chemistry 1901</td>\n",
       "      <td>\"in recognition of the extraordinary services ...</td>\n",
       "      <td>1/1</td>\n",
       "      <td>160</td>\n",
       "      <td>Individual</td>\n",
       "      <td>Jacobus Henricus van 't Hoff</td>\n",
       "      <td>1852-08-30</td>\n",
       "      <td>Rotterdam</td>\n",
       "      <td>Netherlands</td>\n",
       "      <td>Male</td>\n",
       "      <td>Berlin University</td>\n",
       "      <td>Berlin</td>\n",
       "      <td>Germany</td>\n",
       "      <td>1911-03-01</td>\n",
       "      <td>Berlin</td>\n",
       "      <td>Germany</td>\n",
       "    </tr>\n",
       "    <tr>\n",
       "      <th>1</th>\n",
       "      <td>1901</td>\n",
       "      <td>Literature</td>\n",
       "      <td>The Nobel Prize in Literature 1901</td>\n",
       "      <td>\"in special recognition of his poetic composit...</td>\n",
       "      <td>1/1</td>\n",
       "      <td>569</td>\n",
       "      <td>Individual</td>\n",
       "      <td>Sully Prudhomme</td>\n",
       "      <td>1839-03-16</td>\n",
       "      <td>Paris</td>\n",
       "      <td>France</td>\n",
       "      <td>Male</td>\n",
       "      <td>NaN</td>\n",
       "      <td>NaN</td>\n",
       "      <td>NaN</td>\n",
       "      <td>1907-09-07</td>\n",
       "      <td>Châtenay</td>\n",
       "      <td>France</td>\n",
       "    </tr>\n",
       "  </tbody>\n",
       "</table>\n",
       "</div>"
      ],
      "text/plain": [
       "   Year    Category                               Prize  \\\n",
       "0  1901   Chemistry   The Nobel Prize in Chemistry 1901   \n",
       "1  1901  Literature  The Nobel Prize in Literature 1901   \n",
       "\n",
       "                                          Motivation Prize Share  Laureate ID  \\\n",
       "0  \"in recognition of the extraordinary services ...         1/1          160   \n",
       "1  \"in special recognition of his poetic composit...         1/1          569   \n",
       "\n",
       "  Laureate Type                     Full Name  Birth Date Birth City  \\\n",
       "0    Individual  Jacobus Henricus van 't Hoff  1852-08-30  Rotterdam   \n",
       "1    Individual               Sully Prudhomme  1839-03-16      Paris   \n",
       "\n",
       "  Birth Country   Sex  Organization Name Organization City  \\\n",
       "0   Netherlands  Male  Berlin University            Berlin   \n",
       "1        France  Male                NaN               NaN   \n",
       "\n",
       "  Organization Country  Death Date Death City Death Country  \n",
       "0              Germany  1911-03-01     Berlin       Germany  \n",
       "1                  NaN  1907-09-07   Châtenay        France  "
      ]
     },
     "execution_count": 30,
     "metadata": {},
     "output_type": "execute_result"
    }
   ],
   "source": [
    "df = pd.read_csv(\"nobelprize_kaggle.csv\")\n",
    "df.head(2)"
   ]
  },
  {
   "cell_type": "markdown",
   "metadata": {},
   "source": [
    "### A) CLEANING DATASET:\n",
    "\n",
    "1) Removed space from col name and replace with \"_\" and reordered column names\n",
    "\n",
    "2) Dropped the following columns:\n",
    "- Motivation\n",
    "- Organization_City      \n",
    "- Organization_Country    \n",
    "- Death_Date        \n",
    "- Death_City            \n",
    "- Death_Country\n",
    "- Laureate_Type\n",
    "- Birth_City\n",
    "- Prize_Share\n",
    "\n",
    "3) Fixed 4 records where individuals where misclassified as organizations\n",
    "\n",
    "4) Dropped records where Laureate Type = \"Organization\" records (26 records).\n",
    "\n",
    "5) Removed records where Laureate ID was duplicated, retained only first instance (881 unique records retained) \n",
    "\n",
    "6) Birth_Date: Dropped records where Birth_Date = NaN  (2 records)      \n",
    "              \n",
    "       \n",
    "7) Added the following columns\n",
    "- Birth_Year: Extract year from Birth_Date\n",
    "- Age: Subtract Birth_Year from Year to get age of recepient when awarded\n",
    "- Decade: Used the .apply method on Year column to get the Decade for each record\n",
    "\n",
    "\n",
    "Cleaned dataset size =  is 879 x 11\n"
   ]
  },
  {
   "cell_type": "code",
   "execution_count": 31,
   "metadata": {},
   "outputs": [],
   "source": [
    "#1-2 Renaming and re_ordering columns\n",
    "new_names = df.columns.to_list()\n",
    "new_names = [x.replace(\" \", \"_\") for x in new_names] \n",
    "df.columns = new_names\n",
    "df = df[['Laureate_ID','Full_Name','Year', 'Category', 'Prize', 'Motivation', 'Prize_Share', \n",
    "       'Laureate_Type', 'Birth_Date', 'Birth_City',\n",
    "       'Birth_Country', 'Sex', 'Organization_Name', 'Organization_City',\n",
    "       'Organization_Country', 'Death_Date', 'Death_City', 'Death_Country']]\n",
    "#2 Dropping columns irrelevant to our analsysis\n",
    "df.drop(columns = ['Motivation', 'Organization_Name', 'Organization_City',\n",
    "       'Organization_Country', 'Death_Date', 'Death_City', 'Death_Country', 'Birth_City', 'Prize_Share'], inplace = True)"
   ]
  },
  {
   "cell_type": "code",
   "execution_count": 32,
   "metadata": {},
   "outputs": [],
   "source": [
    "#3 Fixed the incorrect classification of individual laureates as organizations.\n",
    "index = df[(df.Laureate_Type == \"Organization\") & ((df.Sex == \"Male\") | (df.Sex == \"Female\"))].index.to_list()\n",
    "df.loc[index,\"Laureate_Type\"]= \"Individual\"\n",
    "#4 Removing Laureate Type = \"Organization\" records from dataset as analysis would focus Laureate Type = \"Individuals\"\n",
    "df.drop(labels = df[df.Laureate_Type == \"Organization\"].index, inplace = True)\n",
    "df.drop(columns = \"Laureate_Type\", inplace = True)"
   ]
  },
  {
   "cell_type": "code",
   "execution_count": 33,
   "metadata": {},
   "outputs": [],
   "source": [
    "#5 Removed laureates records that were duplicated\n",
    "df.drop_duplicates(subset= 'Laureate_ID', keep='first', inplace = True)\n",
    "df.sort_values(by = \"Laureate_ID\", inplace = True)"
   ]
  },
  {
   "cell_type": "code",
   "execution_count": 34,
   "metadata": {},
   "outputs": [],
   "source": [
    "#6 Removed laureate records where \"Birth_Date\" is NaN\n",
    "df.drop(labels = df[df.Birth_Date.isna()].index, inplace = True)"
   ]
  },
  {
   "cell_type": "code",
   "execution_count": 35,
   "metadata": {},
   "outputs": [],
   "source": [
    "#7 Adding columns relevant to our analysis: Birth_Year, Age, Decade\n",
    "#Extracting the birth year of laureates\n",
    "Birth_Year = df.Birth_Date.to_list()\n",
    "Birth_Year = [x[0:4] for x in Birth_Year]\n",
    "df['Birth_Year'] = Birth_Year\n",
    "\n",
    "#Calculating age of laureates when they received their awards\n",
    "df['Age_Awarded'] = df.Year - df.Birth_Year.astype(int)\n",
    "\n",
    "#Calculating the decade based on year awarded\n",
    "df['Decade'] = df.Year.apply(lambda i: (i // 10 )* 10)"
   ]
  },
  {
   "cell_type": "markdown",
   "metadata": {},
   "source": [
    "### About dataset:\n",
    "\n",
    "<b>Description:</b> The Nobel Prize was established in 1895 by Swedish inventor Alfred Nobel and first awarded in 1901. It recognizes people in the fields of Physics, Chemistry, Physiology or Medicine, Literature, Peace, and Economics. This dataset shows all Nobel Prize Laureates from the award's inception in 1901 through October 2016.\n",
    "\n",
    "<b>Column Details:</b> \n",
    "<li>Laureate_ID - Unique identifier assigned to each laureate</li>\n",
    "<li>Full_Name - Legal name of laureate</li>\n",
    "<li>Year - The year prize awarded</li>\n",
    "<li>Category - The laureate's field</li>\n",
    "<li>Prize - Name of the award</li>\n",
    "<li>Birth_Date - The laureate's date of birth (YYYY-MM-DD)</li>\n",
    "<li>Birth_Country - The laureate's country of birth</li>\n",
    "<li>Sex - The laureate's sex</li>\n",
    "<i>Calculated fields:</i>\n",
    "<li>Birth_Year - The laureate's year of birth (YYYY)</li>\n",
    "<li>Age_Awarded - The laureate's age at time of award</li>\n",
    "<li>Decade - The decade in which the prize was awarded </li>\n",
    "\n"
   ]
  },
  {
   "cell_type": "code",
   "execution_count": 36,
   "metadata": {
    "scrolled": true
   },
   "outputs": [
    {
     "data": {
      "text/html": [
       "<div>\n",
       "<style scoped>\n",
       "    .dataframe tbody tr th:only-of-type {\n",
       "        vertical-align: middle;\n",
       "    }\n",
       "\n",
       "    .dataframe tbody tr th {\n",
       "        vertical-align: top;\n",
       "    }\n",
       "\n",
       "    .dataframe thead th {\n",
       "        text-align: right;\n",
       "    }\n",
       "</style>\n",
       "<table border=\"1\" class=\"dataframe\">\n",
       "  <thead>\n",
       "    <tr style=\"text-align: right;\">\n",
       "      <th></th>\n",
       "      <th>Laureate_ID</th>\n",
       "      <th>Full_Name</th>\n",
       "      <th>Year</th>\n",
       "      <th>Category</th>\n",
       "      <th>Prize</th>\n",
       "      <th>Birth_Date</th>\n",
       "      <th>Birth_Country</th>\n",
       "      <th>Sex</th>\n",
       "      <th>Birth_Year</th>\n",
       "      <th>Age_Awarded</th>\n",
       "      <th>Decade</th>\n",
       "    </tr>\n",
       "  </thead>\n",
       "  <tbody>\n",
       "    <tr>\n",
       "      <th>5</th>\n",
       "      <td>1</td>\n",
       "      <td>Wilhelm Conrad Röntgen</td>\n",
       "      <td>1901</td>\n",
       "      <td>Physics</td>\n",
       "      <td>The Nobel Prize in Physics 1901</td>\n",
       "      <td>1845-03-27</td>\n",
       "      <td>Prussia (Germany)</td>\n",
       "      <td>Male</td>\n",
       "      <td>1845</td>\n",
       "      <td>56</td>\n",
       "      <td>1900</td>\n",
       "    </tr>\n",
       "    <tr>\n",
       "      <th>11</th>\n",
       "      <td>2</td>\n",
       "      <td>Hendrik Antoon Lorentz</td>\n",
       "      <td>1902</td>\n",
       "      <td>Physics</td>\n",
       "      <td>The Nobel Prize in Physics 1902</td>\n",
       "      <td>1853-07-18</td>\n",
       "      <td>Netherlands</td>\n",
       "      <td>Male</td>\n",
       "      <td>1853</td>\n",
       "      <td>49</td>\n",
       "      <td>1900</td>\n",
       "    </tr>\n",
       "    <tr>\n",
       "      <th>12</th>\n",
       "      <td>3</td>\n",
       "      <td>Pieter Zeeman</td>\n",
       "      <td>1902</td>\n",
       "      <td>Physics</td>\n",
       "      <td>The Nobel Prize in Physics 1902</td>\n",
       "      <td>1865-05-25</td>\n",
       "      <td>Netherlands</td>\n",
       "      <td>Male</td>\n",
       "      <td>1865</td>\n",
       "      <td>37</td>\n",
       "      <td>1900</td>\n",
       "    </tr>\n",
       "    <tr>\n",
       "      <th>17</th>\n",
       "      <td>4</td>\n",
       "      <td>Antoine Henri Becquerel</td>\n",
       "      <td>1903</td>\n",
       "      <td>Physics</td>\n",
       "      <td>The Nobel Prize in Physics 1903</td>\n",
       "      <td>1852-12-15</td>\n",
       "      <td>France</td>\n",
       "      <td>Male</td>\n",
       "      <td>1852</td>\n",
       "      <td>51</td>\n",
       "      <td>1900</td>\n",
       "    </tr>\n",
       "    <tr>\n",
       "      <th>18</th>\n",
       "      <td>5</td>\n",
       "      <td>Pierre Curie</td>\n",
       "      <td>1903</td>\n",
       "      <td>Physics</td>\n",
       "      <td>The Nobel Prize in Physics 1903</td>\n",
       "      <td>1859-05-15</td>\n",
       "      <td>France</td>\n",
       "      <td>Male</td>\n",
       "      <td>1859</td>\n",
       "      <td>44</td>\n",
       "      <td>1900</td>\n",
       "    </tr>\n",
       "  </tbody>\n",
       "</table>\n",
       "</div>"
      ],
      "text/plain": [
       "    Laureate_ID                Full_Name  Year Category  \\\n",
       "5             1   Wilhelm Conrad Röntgen  1901  Physics   \n",
       "11            2   Hendrik Antoon Lorentz  1902  Physics   \n",
       "12            3            Pieter Zeeman  1902  Physics   \n",
       "17            4  Antoine Henri Becquerel  1903  Physics   \n",
       "18            5             Pierre Curie  1903  Physics   \n",
       "\n",
       "                              Prize  Birth_Date      Birth_Country   Sex  \\\n",
       "5   The Nobel Prize in Physics 1901  1845-03-27  Prussia (Germany)  Male   \n",
       "11  The Nobel Prize in Physics 1902  1853-07-18        Netherlands  Male   \n",
       "12  The Nobel Prize in Physics 1902  1865-05-25        Netherlands  Male   \n",
       "17  The Nobel Prize in Physics 1903  1852-12-15             France  Male   \n",
       "18  The Nobel Prize in Physics 1903  1859-05-15             France  Male   \n",
       "\n",
       "   Birth_Year  Age_Awarded  Decade  \n",
       "5        1845           56    1900  \n",
       "11       1853           49    1900  \n",
       "12       1865           37    1900  \n",
       "17       1852           51    1900  \n",
       "18       1859           44    1900  "
      ]
     },
     "execution_count": 36,
     "metadata": {},
     "output_type": "execute_result"
    }
   ],
   "source": [
    "df.head()"
   ]
  },
  {
   "cell_type": "markdown",
   "metadata": {},
   "source": [
    "*****"
   ]
  },
  {
   "cell_type": "markdown",
   "metadata": {},
   "source": [
    "### B) ANALYSIS AND VISUALIZATION:"
   ]
  },
  {
   "cell_type": "code",
   "execution_count": 37,
   "metadata": {},
   "outputs": [],
   "source": [
    "df2 = df.copy()"
   ]
  },
  {
   "cell_type": "code",
   "execution_count": 38,
   "metadata": {},
   "outputs": [],
   "source": [
    "#Binarizing the 'Sex' column\n",
    "df2['Is_Male'] = (df2.Sex == 'Male')* 1\n",
    "df2.drop(['Sex'], axis=1, inplace=True)"
   ]
  },
  {
   "cell_type": "code",
   "execution_count": 39,
   "metadata": {},
   "outputs": [
    {
     "data": {
      "text/html": [
       "<div>\n",
       "<style scoped>\n",
       "    .dataframe tbody tr th:only-of-type {\n",
       "        vertical-align: middle;\n",
       "    }\n",
       "\n",
       "    .dataframe tbody tr th {\n",
       "        vertical-align: top;\n",
       "    }\n",
       "\n",
       "    .dataframe thead th {\n",
       "        text-align: right;\n",
       "    }\n",
       "</style>\n",
       "<table border=\"1\" class=\"dataframe\">\n",
       "  <thead>\n",
       "    <tr style=\"text-align: right;\">\n",
       "      <th></th>\n",
       "      <th>Laureate_ID</th>\n",
       "      <th>Full_Name</th>\n",
       "      <th>Year</th>\n",
       "      <th>Category</th>\n",
       "      <th>Prize</th>\n",
       "      <th>Birth_Date</th>\n",
       "      <th>Birth_Country</th>\n",
       "      <th>Birth_Year</th>\n",
       "      <th>Age_Awarded</th>\n",
       "      <th>Decade</th>\n",
       "      <th>Is_Male</th>\n",
       "    </tr>\n",
       "  </thead>\n",
       "  <tbody>\n",
       "    <tr>\n",
       "      <th>5</th>\n",
       "      <td>1</td>\n",
       "      <td>Wilhelm Conrad Röntgen</td>\n",
       "      <td>1901</td>\n",
       "      <td>Physics</td>\n",
       "      <td>The Nobel Prize in Physics 1901</td>\n",
       "      <td>1845-03-27</td>\n",
       "      <td>Prussia (Germany)</td>\n",
       "      <td>1845</td>\n",
       "      <td>56</td>\n",
       "      <td>1900</td>\n",
       "      <td>1</td>\n",
       "    </tr>\n",
       "    <tr>\n",
       "      <th>11</th>\n",
       "      <td>2</td>\n",
       "      <td>Hendrik Antoon Lorentz</td>\n",
       "      <td>1902</td>\n",
       "      <td>Physics</td>\n",
       "      <td>The Nobel Prize in Physics 1902</td>\n",
       "      <td>1853-07-18</td>\n",
       "      <td>Netherlands</td>\n",
       "      <td>1853</td>\n",
       "      <td>49</td>\n",
       "      <td>1900</td>\n",
       "      <td>1</td>\n",
       "    </tr>\n",
       "    <tr>\n",
       "      <th>12</th>\n",
       "      <td>3</td>\n",
       "      <td>Pieter Zeeman</td>\n",
       "      <td>1902</td>\n",
       "      <td>Physics</td>\n",
       "      <td>The Nobel Prize in Physics 1902</td>\n",
       "      <td>1865-05-25</td>\n",
       "      <td>Netherlands</td>\n",
       "      <td>1865</td>\n",
       "      <td>37</td>\n",
       "      <td>1900</td>\n",
       "      <td>1</td>\n",
       "    </tr>\n",
       "    <tr>\n",
       "      <th>17</th>\n",
       "      <td>4</td>\n",
       "      <td>Antoine Henri Becquerel</td>\n",
       "      <td>1903</td>\n",
       "      <td>Physics</td>\n",
       "      <td>The Nobel Prize in Physics 1903</td>\n",
       "      <td>1852-12-15</td>\n",
       "      <td>France</td>\n",
       "      <td>1852</td>\n",
       "      <td>51</td>\n",
       "      <td>1900</td>\n",
       "      <td>1</td>\n",
       "    </tr>\n",
       "    <tr>\n",
       "      <th>18</th>\n",
       "      <td>5</td>\n",
       "      <td>Pierre Curie</td>\n",
       "      <td>1903</td>\n",
       "      <td>Physics</td>\n",
       "      <td>The Nobel Prize in Physics 1903</td>\n",
       "      <td>1859-05-15</td>\n",
       "      <td>France</td>\n",
       "      <td>1859</td>\n",
       "      <td>44</td>\n",
       "      <td>1900</td>\n",
       "      <td>1</td>\n",
       "    </tr>\n",
       "  </tbody>\n",
       "</table>\n",
       "</div>"
      ],
      "text/plain": [
       "    Laureate_ID                Full_Name  Year Category  \\\n",
       "5             1   Wilhelm Conrad Röntgen  1901  Physics   \n",
       "11            2   Hendrik Antoon Lorentz  1902  Physics   \n",
       "12            3            Pieter Zeeman  1902  Physics   \n",
       "17            4  Antoine Henri Becquerel  1903  Physics   \n",
       "18            5             Pierre Curie  1903  Physics   \n",
       "\n",
       "                              Prize  Birth_Date      Birth_Country Birth_Year  \\\n",
       "5   The Nobel Prize in Physics 1901  1845-03-27  Prussia (Germany)       1845   \n",
       "11  The Nobel Prize in Physics 1902  1853-07-18        Netherlands       1853   \n",
       "12  The Nobel Prize in Physics 1902  1865-05-25        Netherlands       1865   \n",
       "17  The Nobel Prize in Physics 1903  1852-12-15             France       1852   \n",
       "18  The Nobel Prize in Physics 1903  1859-05-15             France       1859   \n",
       "\n",
       "    Age_Awarded  Decade  Is_Male  \n",
       "5            56    1900        1  \n",
       "11           49    1900        1  \n",
       "12           37    1900        1  \n",
       "17           51    1900        1  \n",
       "18           44    1900        1  "
      ]
     },
     "execution_count": 39,
     "metadata": {},
     "output_type": "execute_result"
    }
   ],
   "source": [
    "df2.head()"
   ]
  },
  {
   "cell_type": "markdown",
   "metadata": {},
   "source": [
    "*****"
   ]
  },
  {
   "cell_type": "markdown",
   "metadata": {},
   "source": [
    "#### Finding 1: Disproprtionate number of awards go to men in all categories every decade"
   ]
  },
  {
   "cell_type": "code",
   "execution_count": 40,
   "metadata": {},
   "outputs": [],
   "source": [
    "sns.set_style('darkgrid')"
   ]
  },
  {
   "cell_type": "code",
   "execution_count": 41,
   "metadata": {},
   "outputs": [
    {
     "data": {
      "image/png": "[encoded data removed]",
      "text/plain": [
       "<Figure size 720x360 with 1 Axes>"
      ]
     },
     "metadata": {},
     "output_type": "display_data"
    }
   ],
   "source": [
    "c = sns.catplot(y = 'Decade', hue = 'Is_Male', x = 'Category', data = df2, kind = 'swarm', aspect = 2, legend_out = False)\n",
    "# Editing legend title\n",
    "new_title = 'Sex'\n",
    "c._legend.set_title(new_title)\n",
    "# Editing legend labels\n",
    "new_labels = ['Female', 'Male']\n",
    "for t, l in zip(c._legend.texts, new_labels): t.set_text(l)"
   ]
  },
  {
   "cell_type": "markdown",
   "metadata": {},
   "source": [
    "#### Insight: "
   ]
  },
  {
   "cell_type": "markdown",
   "metadata": {},
   "source": [
    "Here, we can see that 90% of the time, the Nobel prize is awarded to Males. One reason could be because women did not work as much in the 1900s as they do now but there still isn't any significant rise in the number of awards to women. The highest was in 2000s where women recieved 11 Nobel prize awards."
   ]
  },
  {
   "cell_type": "markdown",
   "metadata": {},
   "source": [
    "*****"
   ]
  },
  {
   "cell_type": "markdown",
   "metadata": {},
   "source": [
    "#### Finding 2: Highest number of awards from USA in most categories except Literature."
   ]
  },
  {
   "cell_type": "code",
   "execution_count": 42,
   "metadata": {},
   "outputs": [
    {
     "data": {
      "text/plain": [
       "<matplotlib.axes._subplots.AxesSubplot at 0x123df6bb0>"
      ]
     },
     "execution_count": 42,
     "metadata": {},
     "output_type": "execute_result"
    },
    {
     "data": {
      "image/png": "[encoded data removed]",
      "text/plain": [
       "<Figure size 720x432 with 1 Axes>"
      ]
     },
     "metadata": {},
     "output_type": "display_data"
    }
   ],
   "source": [
    "df2.groupby(['Category', 'Birth_Country'])['Prize'].count().nlargest(15).unstack('Birth_Country').plot(kind = 'bar', figsize = ([10,6]))"
   ]
  },
  {
   "cell_type": "markdown",
   "metadata": {},
   "source": [
    "#### Insight:"
   ]
  },
  {
   "cell_type": "markdown",
   "metadata": {},
   "source": [
    "From the graph above, we can clearly see that highest number of awards have been awarded to U.S. in each category except in Literature where France recieved highest Nobel Prizes"
   ]
  },
  {
   "cell_type": "markdown",
   "metadata": {},
   "source": [
    "*****"
   ]
  },
  {
   "cell_type": "markdown",
   "metadata": {},
   "source": [
    "#### Finding 3: Laureate's age has been an upward trend over the years in all categories, except Peace."
   ]
  },
  {
   "cell_type": "code",
   "execution_count": 43,
   "metadata": {},
   "outputs": [],
   "source": [
    "import matplotlib.pyplot as plt"
   ]
  },
  {
   "cell_type": "code",
   "execution_count": 44,
   "metadata": {},
   "outputs": [
    {
     "data": {
      "image/png": "[encoded data removed]",
      "text/plain": [
       "<Figure size 1382.4x576 with 6 Axes>"
      ]
     },
     "metadata": {},
     "output_type": "display_data"
    }
   ],
   "source": [
    "g = sns.FacetGrid(df, col=\"Category\",col_wrap=3, height=4, aspect= 1.6, hue = 'Category', palette = 'Set1')\n",
    "g.map(sns.regplot, 'Year', 'Age_Awarded');\n"
   ]
  },
  {
   "cell_type": "markdown",
   "metadata": {},
   "source": [
    "#### Insight:"
   ]
  },
  {
   "cell_type": "markdown",
   "metadata": {},
   "source": [
    "The age trend for receiving nobel prize for each Category has seen an upward trend except for peace where there is a downward trend. This could be due to a relatively younger recipients in the 2000s like Malala."
   ]
  },
  {
   "cell_type": "markdown",
   "metadata": {},
   "source": [
    "****"
   ]
  },
  {
   "cell_type": "markdown",
   "metadata": {},
   "source": [
    "### C) MACHINE LEARNING :"
   ]
  },
  {
   "cell_type": "markdown",
   "metadata": {},
   "source": [
    "We will use the 'Clustering' method to uncover any meaningful patterns in our dataset. We understand that we are limited in both the number of records and the non-numerical data in dataset; however, it will be interesting to see what the model comes up with."
   ]
  },
  {
   "cell_type": "code",
   "execution_count": 45,
   "metadata": {},
   "outputs": [],
   "source": [
    "df3 = df.copy()"
   ]
  },
  {
   "cell_type": "code",
   "execution_count": 46,
   "metadata": {},
   "outputs": [],
   "source": [
    "# Creating dummy columns for 'Sex' and 'Category' columns\n",
    "df3 = pd.get_dummies(df3,columns = ['Sex', 'Category'])"
   ]
  },
  {
   "cell_type": "code",
   "execution_count": 47,
   "metadata": {},
   "outputs": [],
   "source": [
    "#Drop all of the non-numericial columns\n",
    "df3.drop(columns = ['Laureate_ID', 'Full_Name', 'Year', 'Prize', 'Birth_Date', 'Birth_Country', 'Birth_Year', 'Decade'], inplace = True)"
   ]
  },
  {
   "cell_type": "code",
   "execution_count": 48,
   "metadata": {},
   "outputs": [
    {
     "data": {
      "text/html": [
       "<div>\n",
       "<style scoped>\n",
       "    .dataframe tbody tr th:only-of-type {\n",
       "        vertical-align: middle;\n",
       "    }\n",
       "\n",
       "    .dataframe tbody tr th {\n",
       "        vertical-align: top;\n",
       "    }\n",
       "\n",
       "    .dataframe thead th {\n",
       "        text-align: right;\n",
       "    }\n",
       "</style>\n",
       "<table border=\"1\" class=\"dataframe\">\n",
       "  <thead>\n",
       "    <tr style=\"text-align: right;\">\n",
       "      <th></th>\n",
       "      <th>Age_Awarded</th>\n",
       "      <th>Sex_Female</th>\n",
       "      <th>Sex_Male</th>\n",
       "      <th>Category_Chemistry</th>\n",
       "      <th>Category_Economics</th>\n",
       "      <th>Category_Literature</th>\n",
       "      <th>Category_Medicine</th>\n",
       "      <th>Category_Peace</th>\n",
       "      <th>Category_Physics</th>\n",
       "    </tr>\n",
       "  </thead>\n",
       "  <tbody>\n",
       "    <tr>\n",
       "      <th>5</th>\n",
       "      <td>56</td>\n",
       "      <td>0</td>\n",
       "      <td>1</td>\n",
       "      <td>0</td>\n",
       "      <td>0</td>\n",
       "      <td>0</td>\n",
       "      <td>0</td>\n",
       "      <td>0</td>\n",
       "      <td>1</td>\n",
       "    </tr>\n",
       "    <tr>\n",
       "      <th>11</th>\n",
       "      <td>49</td>\n",
       "      <td>0</td>\n",
       "      <td>1</td>\n",
       "      <td>0</td>\n",
       "      <td>0</td>\n",
       "      <td>0</td>\n",
       "      <td>0</td>\n",
       "      <td>0</td>\n",
       "      <td>1</td>\n",
       "    </tr>\n",
       "    <tr>\n",
       "      <th>12</th>\n",
       "      <td>37</td>\n",
       "      <td>0</td>\n",
       "      <td>1</td>\n",
       "      <td>0</td>\n",
       "      <td>0</td>\n",
       "      <td>0</td>\n",
       "      <td>0</td>\n",
       "      <td>0</td>\n",
       "      <td>1</td>\n",
       "    </tr>\n",
       "    <tr>\n",
       "      <th>17</th>\n",
       "      <td>51</td>\n",
       "      <td>0</td>\n",
       "      <td>1</td>\n",
       "      <td>0</td>\n",
       "      <td>0</td>\n",
       "      <td>0</td>\n",
       "      <td>0</td>\n",
       "      <td>0</td>\n",
       "      <td>1</td>\n",
       "    </tr>\n",
       "    <tr>\n",
       "      <th>18</th>\n",
       "      <td>44</td>\n",
       "      <td>0</td>\n",
       "      <td>1</td>\n",
       "      <td>0</td>\n",
       "      <td>0</td>\n",
       "      <td>0</td>\n",
       "      <td>0</td>\n",
       "      <td>0</td>\n",
       "      <td>1</td>\n",
       "    </tr>\n",
       "  </tbody>\n",
       "</table>\n",
       "</div>"
      ],
      "text/plain": [
       "    Age_Awarded  Sex_Female  Sex_Male  Category_Chemistry  Category_Economics  \\\n",
       "5            56           0         1                   0                   0   \n",
       "11           49           0         1                   0                   0   \n",
       "12           37           0         1                   0                   0   \n",
       "17           51           0         1                   0                   0   \n",
       "18           44           0         1                   0                   0   \n",
       "\n",
       "    Category_Literature  Category_Medicine  Category_Peace  Category_Physics  \n",
       "5                     0                  0               0                 1  \n",
       "11                    0                  0               0                 1  \n",
       "12                    0                  0               0                 1  \n",
       "17                    0                  0               0                 1  \n",
       "18                    0                  0               0                 1  "
      ]
     },
     "execution_count": 48,
     "metadata": {},
     "output_type": "execute_result"
    }
   ],
   "source": [
    "df3.head()"
   ]
  },
  {
   "cell_type": "code",
   "execution_count": 49,
   "metadata": {},
   "outputs": [],
   "source": [
    "from sklearn.cluster import KMeans"
   ]
  },
  {
   "cell_type": "code",
   "execution_count": 50,
   "metadata": {},
   "outputs": [
    {
     "data": {
      "text/plain": [
       "KMeans(n_clusters=3, random_state=0)"
      ]
     },
     "execution_count": 50,
     "metadata": {},
     "output_type": "execute_result"
    }
   ],
   "source": [
    "#Use KMeans to find 3 clusters\n",
    "clu = KMeans(n_clusters=3,random_state=0)\n",
    "clu.fit(df3)"
   ]
  },
  {
   "cell_type": "code",
   "execution_count": 51,
   "metadata": {
    "scrolled": true
   },
   "outputs": [
    {
     "data": {
      "text/html": [
       "<div>\n",
       "<style scoped>\n",
       "    .dataframe tbody tr th:only-of-type {\n",
       "        vertical-align: middle;\n",
       "    }\n",
       "\n",
       "    .dataframe tbody tr th {\n",
       "        vertical-align: top;\n",
       "    }\n",
       "\n",
       "    .dataframe thead th {\n",
       "        text-align: right;\n",
       "    }\n",
       "</style>\n",
       "<table border=\"1\" class=\"dataframe\">\n",
       "  <thead>\n",
       "    <tr style=\"text-align: right;\">\n",
       "      <th></th>\n",
       "      <th>Age_Awarded</th>\n",
       "      <th>Sex_Female</th>\n",
       "      <th>Sex_Male</th>\n",
       "      <th>Category_Chemistry</th>\n",
       "      <th>Category_Economics</th>\n",
       "      <th>Category_Literature</th>\n",
       "      <th>Category_Medicine</th>\n",
       "      <th>Category_Peace</th>\n",
       "      <th>Category_Physics</th>\n",
       "    </tr>\n",
       "    <tr>\n",
       "      <th>Cluster</th>\n",
       "      <th></th>\n",
       "      <th></th>\n",
       "      <th></th>\n",
       "      <th></th>\n",
       "      <th></th>\n",
       "      <th></th>\n",
       "      <th></th>\n",
       "      <th></th>\n",
       "      <th></th>\n",
       "    </tr>\n",
       "  </thead>\n",
       "  <tbody>\n",
       "    <tr>\n",
       "      <th>0</th>\n",
       "      <td>58.819672</td>\n",
       "      <td>0.040984</td>\n",
       "      <td>0.959016</td>\n",
       "      <td>0.204918</td>\n",
       "      <td>0.101093</td>\n",
       "      <td>0.120219</td>\n",
       "      <td>0.265027</td>\n",
       "      <td>0.114754</td>\n",
       "      <td>0.193989</td>\n",
       "    </tr>\n",
       "    <tr>\n",
       "      <th>1</th>\n",
       "      <td>73.846154</td>\n",
       "      <td>0.062271</td>\n",
       "      <td>0.937729</td>\n",
       "      <td>0.164835</td>\n",
       "      <td>0.146520</td>\n",
       "      <td>0.208791</td>\n",
       "      <td>0.175824</td>\n",
       "      <td>0.142857</td>\n",
       "      <td>0.161172</td>\n",
       "    </tr>\n",
       "    <tr>\n",
       "      <th>2</th>\n",
       "      <td>44.075000</td>\n",
       "      <td>0.066667</td>\n",
       "      <td>0.933333</td>\n",
       "      <td>0.216667</td>\n",
       "      <td>0.004167</td>\n",
       "      <td>0.050000</td>\n",
       "      <td>0.275000</td>\n",
       "      <td>0.091667</td>\n",
       "      <td>0.362500</td>\n",
       "    </tr>\n",
       "  </tbody>\n",
       "</table>\n",
       "</div>"
      ],
      "text/plain": [
       "         Age_Awarded  Sex_Female  Sex_Male  Category_Chemistry  \\\n",
       "Cluster                                                          \n",
       "0          58.819672    0.040984  0.959016            0.204918   \n",
       "1          73.846154    0.062271  0.937729            0.164835   \n",
       "2          44.075000    0.066667  0.933333            0.216667   \n",
       "\n",
       "         Category_Economics  Category_Literature  Category_Medicine  \\\n",
       "Cluster                                                               \n",
       "0                  0.101093             0.120219           0.265027   \n",
       "1                  0.146520             0.208791           0.175824   \n",
       "2                  0.004167             0.050000           0.275000   \n",
       "\n",
       "         Category_Peace  Category_Physics  \n",
       "Cluster                                    \n",
       "0              0.114754          0.193989  \n",
       "1              0.142857          0.161172  \n",
       "2              0.091667          0.362500  "
      ]
     },
     "execution_count": 51,
     "metadata": {},
     "output_type": "execute_result"
    }
   ],
   "source": [
    "#Getting summary information on the clusters' characteristics\n",
    "df4 = df3.copy()\n",
    "df4['Cluster'] = clu.labels_\n",
    "df4.groupby('Cluster').mean()"
   ]
  },
  {
   "cell_type": "markdown",
   "metadata": {},
   "source": [
    "<b>Findings:</b>\n",
    "<li>Among all of the age group, females have a much lower probability to win the Nobel Prize than males</li>\n",
    "<li>Younger people have higher probability to win chemistery, medicine, and physics prize, while elder people have higher probalility to win economics, literature, annd peace prize</li>"
   ]
  },
  {
   "cell_type": "code",
   "execution_count": 52,
   "metadata": {},
   "outputs": [
    {
     "data": {
      "text/plain": [
       "<seaborn.axisgrid.FacetGrid at 0x124b66370>"
      ]
     },
     "execution_count": 52,
     "metadata": {},
     "output_type": "execute_result"
    },
    {
     "data": {
      "image/png": "[encoded data removed]",
      "text/plain": [
       "<Figure size 720x360 with 1 Axes>"
      ]
     },
     "metadata": {},
     "output_type": "display_data"
    }
   ],
   "source": [
    "sns.catplot(y='Category', data=df2, x='Age_Awarded',\\\n",
    "               aspect=2, kind='violin')"
   ]
  },
  {
   "cell_type": "markdown",
   "metadata": {},
   "source": [
    "*****"
   ]
  },
  {
   "cell_type": "code",
   "execution_count": 53,
   "metadata": {},
   "outputs": [],
   "source": [
    "#Normalize the data set before clustering\n",
    "df_norm = df3.copy()\n",
    "df_norm = (df_norm - df_norm.mean()) / df_norm.std()"
   ]
  },
  {
   "cell_type": "code",
   "execution_count": 54,
   "metadata": {},
   "outputs": [
    {
     "data": {
      "text/plain": [
       "KMeans(n_clusters=3, random_state=3)"
      ]
     },
     "execution_count": 54,
     "metadata": {},
     "output_type": "execute_result"
    }
   ],
   "source": [
    "clu = KMeans(n_clusters=3,random_state=3)\n",
    "clu.fit(df_norm)"
   ]
  },
  {
   "cell_type": "code",
   "execution_count": 55,
   "metadata": {},
   "outputs": [
    {
     "data": {
      "text/html": [
       "<div>\n",
       "<style scoped>\n",
       "    .dataframe tbody tr th:only-of-type {\n",
       "        vertical-align: middle;\n",
       "    }\n",
       "\n",
       "    .dataframe tbody tr th {\n",
       "        vertical-align: top;\n",
       "    }\n",
       "\n",
       "    .dataframe thead th {\n",
       "        text-align: right;\n",
       "    }\n",
       "</style>\n",
       "<table border=\"1\" class=\"dataframe\">\n",
       "  <thead>\n",
       "    <tr style=\"text-align: right;\">\n",
       "      <th></th>\n",
       "      <th>Age_Awarded</th>\n",
       "      <th>Sex_Female</th>\n",
       "      <th>Sex_Male</th>\n",
       "      <th>Category_Chemistry</th>\n",
       "      <th>Category_Economics</th>\n",
       "      <th>Category_Literature</th>\n",
       "      <th>Category_Medicine</th>\n",
       "      <th>Category_Peace</th>\n",
       "      <th>Category_Physics</th>\n",
       "    </tr>\n",
       "    <tr>\n",
       "      <th>Cluster</th>\n",
       "      <th></th>\n",
       "      <th></th>\n",
       "      <th></th>\n",
       "      <th></th>\n",
       "      <th></th>\n",
       "      <th></th>\n",
       "      <th></th>\n",
       "      <th></th>\n",
       "      <th></th>\n",
       "    </tr>\n",
       "  </thead>\n",
       "  <tbody>\n",
       "    <tr>\n",
       "      <th>0</th>\n",
       "      <td>-0.325468</td>\n",
       "      <td>-0.240200</td>\n",
       "      <td>0.240200</td>\n",
       "      <td>-0.492955</td>\n",
       "      <td>-0.311877</td>\n",
       "      <td>-0.383864</td>\n",
       "      <td>-0.561702</td>\n",
       "      <td>-0.364117</td>\n",
       "      <td>1.829665</td>\n",
       "    </tr>\n",
       "    <tr>\n",
       "      <th>1</th>\n",
       "      <td>-0.094166</td>\n",
       "      <td>4.158462</td>\n",
       "      <td>-4.158462</td>\n",
       "      <td>-0.335503</td>\n",
       "      <td>-0.238656</td>\n",
       "      <td>0.487049</td>\n",
       "      <td>0.023293</td>\n",
       "      <td>0.671672</td>\n",
       "      <td>-0.446944</td>\n",
       "    </tr>\n",
       "    <tr>\n",
       "      <th>2</th>\n",
       "      <td>0.110323</td>\n",
       "      <td>-0.240200</td>\n",
       "      <td>0.240200</td>\n",
       "      <td>0.181767</td>\n",
       "      <td>0.117006</td>\n",
       "      <td>0.084619</td>\n",
       "      <td>0.176264</td>\n",
       "      <td>0.064316</td>\n",
       "      <td>-0.545926</td>\n",
       "    </tr>\n",
       "  </tbody>\n",
       "</table>\n",
       "</div>"
      ],
      "text/plain": [
       "         Age_Awarded  Sex_Female  Sex_Male  Category_Chemistry  \\\n",
       "Cluster                                                          \n",
       "0          -0.325468   -0.240200  0.240200           -0.492955   \n",
       "1          -0.094166    4.158462 -4.158462           -0.335503   \n",
       "2           0.110323   -0.240200  0.240200            0.181767   \n",
       "\n",
       "         Category_Economics  Category_Literature  Category_Medicine  \\\n",
       "Cluster                                                               \n",
       "0                 -0.311877            -0.383864          -0.561702   \n",
       "1                 -0.238656             0.487049           0.023293   \n",
       "2                  0.117006             0.084619           0.176264   \n",
       "\n",
       "         Category_Peace  Category_Physics  \n",
       "Cluster                                    \n",
       "0             -0.364117          1.829665  \n",
       "1              0.671672         -0.446944  \n",
       "2              0.064316         -0.545926  "
      ]
     },
     "execution_count": 55,
     "metadata": {},
     "output_type": "execute_result"
    }
   ],
   "source": [
    "df5 = df_norm.copy()\n",
    "df5['Cluster'] = clu.labels_\n",
    "df5.groupby('Cluster').mean()"
   ]
  },
  {
   "cell_type": "code",
   "execution_count": 56,
   "metadata": {},
   "outputs": [
    {
     "data": {
      "text/html": [
       "<div>\n",
       "<style scoped>\n",
       "    .dataframe tbody tr th:only-of-type {\n",
       "        vertical-align: middle;\n",
       "    }\n",
       "\n",
       "    .dataframe tbody tr th {\n",
       "        vertical-align: top;\n",
       "    }\n",
       "\n",
       "    .dataframe thead th {\n",
       "        text-align: right;\n",
       "    }\n",
       "</style>\n",
       "<table border=\"1\" class=\"dataframe\">\n",
       "  <thead>\n",
       "    <tr style=\"text-align: right;\">\n",
       "      <th></th>\n",
       "      <th>Age_Awarded</th>\n",
       "      <th>Sex_Female</th>\n",
       "      <th>Sex_Male</th>\n",
       "      <th>Category_Chemistry</th>\n",
       "      <th>Category_Economics</th>\n",
       "      <th>Category_Literature</th>\n",
       "      <th>Category_Medicine</th>\n",
       "      <th>Category_Peace</th>\n",
       "      <th>Category_Physics</th>\n",
       "    </tr>\n",
       "    <tr>\n",
       "      <th>Cluster</th>\n",
       "      <th></th>\n",
       "      <th></th>\n",
       "      <th></th>\n",
       "      <th></th>\n",
       "      <th></th>\n",
       "      <th></th>\n",
       "      <th></th>\n",
       "      <th></th>\n",
       "      <th></th>\n",
       "    </tr>\n",
       "  </thead>\n",
       "  <tbody>\n",
       "    <tr>\n",
       "      <th>0</th>\n",
       "      <td>55.420000</td>\n",
       "      <td>0.0</td>\n",
       "      <td>1.0</td>\n",
       "      <td>0.000000</td>\n",
       "      <td>0.000000</td>\n",
       "      <td>0.000000</td>\n",
       "      <td>0.000000</td>\n",
       "      <td>0.000000</td>\n",
       "      <td>1.000000</td>\n",
       "    </tr>\n",
       "    <tr>\n",
       "      <th>1</th>\n",
       "      <td>58.291667</td>\n",
       "      <td>1.0</td>\n",
       "      <td>0.0</td>\n",
       "      <td>0.062500</td>\n",
       "      <td>0.020833</td>\n",
       "      <td>0.291667</td>\n",
       "      <td>0.250000</td>\n",
       "      <td>0.333333</td>\n",
       "      <td>0.041667</td>\n",
       "    </tr>\n",
       "    <tr>\n",
       "      <th>2</th>\n",
       "      <td>60.830428</td>\n",
       "      <td>0.0</td>\n",
       "      <td>1.0</td>\n",
       "      <td>0.267829</td>\n",
       "      <td>0.122029</td>\n",
       "      <td>0.156894</td>\n",
       "      <td>0.315372</td>\n",
       "      <td>0.137876</td>\n",
       "      <td>0.000000</td>\n",
       "    </tr>\n",
       "  </tbody>\n",
       "</table>\n",
       "</div>"
      ],
      "text/plain": [
       "         Age_Awarded  Sex_Female  Sex_Male  Category_Chemistry  \\\n",
       "Cluster                                                          \n",
       "0          55.420000         0.0       1.0            0.000000   \n",
       "1          58.291667         1.0       0.0            0.062500   \n",
       "2          60.830428         0.0       1.0            0.267829   \n",
       "\n",
       "         Category_Economics  Category_Literature  Category_Medicine  \\\n",
       "Cluster                                                               \n",
       "0                  0.000000             0.000000           0.000000   \n",
       "1                  0.020833             0.291667           0.250000   \n",
       "2                  0.122029             0.156894           0.315372   \n",
       "\n",
       "         Category_Peace  Category_Physics  \n",
       "Cluster                                    \n",
       "0              0.000000          1.000000  \n",
       "1              0.333333          0.041667  \n",
       "2              0.137876          0.000000  "
      ]
     },
     "execution_count": 56,
     "metadata": {},
     "output_type": "execute_result"
    }
   ],
   "source": [
    "df6 = df3.copy()\n",
    "df6['Cluster'] = clu.labels_\n",
    "df6.groupby('Cluster').mean()"
   ]
  },
  {
   "cell_type": "markdown",
   "metadata": {},
   "source": [
    "<b>Findings -</b>\n",
    "Three clusters identified: 55 year-old males, 58 year-old females, 60 year-old males\n",
    "<li>55 year-old males: Tend to get awarded in Physics category</li>\n",
    "<li>58 year-old females: Tend to get awarded in Literature or Medicine categories</li>\n",
    "<li>60 year-old males: Tend to get awarded in Chemistry or Medicine categories</li>\n"
   ]
  },
  {
   "cell_type": "markdown",
   "metadata": {},
   "source": [
    "<b>Finding the best clustering method</b>"
   ]
  },
  {
   "cell_type": "code",
   "execution_count": 59,
   "metadata": {},
   "outputs": [
    {
     "name": "stderr",
     "output_type": "stream",
     "text": [
      "/opt/anaconda3/lib/python3.8/site-packages/sklearn/cluster/_kmeans.py:973: FutureWarning: 'n_jobs' was deprecated in version 0.23 and will be removed in 0.25.\n",
      "  warnings.warn(\"'n_jobs' was deprecated in version 0.23 and will be\"\n",
      "/opt/anaconda3/lib/python3.8/site-packages/sklearn/cluster/_kmeans.py:973: FutureWarning: 'n_jobs' was deprecated in version 0.23 and will be removed in 0.25.\n",
      "  warnings.warn(\"'n_jobs' was deprecated in version 0.23 and will be\"\n"
     ]
    },
    {
     "name": "stdout",
     "output_type": "stream",
     "text": [
      "KMeans(n_c with k =2: 0.56\n",
      "Birch(n_cl with k =2: 0.53\n",
      "Agglomerat with k =2: 0.4897\n",
      "KMeans(n_c with k =3: 0.5369\n",
      "Birch() with k =3: 0.5264\n",
      "Agglomerat with k =3: 0.4691\n",
      "KMeans(n_c with k =4: 0.4901\n",
      "Birch(n_cl with k =4: 0.5131\n",
      "Agglomerat with k =4: 0.47\n",
      "KMeans(n_c with k =5: 0.4953\n"
     ]
    },
    {
     "name": "stderr",
     "output_type": "stream",
     "text": [
      "/opt/anaconda3/lib/python3.8/site-packages/sklearn/cluster/_kmeans.py:973: FutureWarning: 'n_jobs' was deprecated in version 0.23 and will be removed in 0.25.\n",
      "  warnings.warn(\"'n_jobs' was deprecated in version 0.23 and will be\"\n",
      "/opt/anaconda3/lib/python3.8/site-packages/sklearn/cluster/_kmeans.py:973: FutureWarning: 'n_jobs' was deprecated in version 0.23 and will be removed in 0.25.\n",
      "  warnings.warn(\"'n_jobs' was deprecated in version 0.23 and will be\"\n"
     ]
    },
    {
     "name": "stdout",
     "output_type": "stream",
     "text": [
      "Birch(n_cl with k =5: 0.4943\n",
      "Agglomerat with k =5: 0.4769\n",
      "KMeans(n_c with k =6: 0.5028\n",
      "Birch(n_cl with k =6: 0.4493\n",
      "Agglomerat with k =6: 0.4577\n"
     ]
    },
    {
     "name": "stderr",
     "output_type": "stream",
     "text": [
      "/opt/anaconda3/lib/python3.8/site-packages/sklearn/cluster/_kmeans.py:973: FutureWarning: 'n_jobs' was deprecated in version 0.23 and will be removed in 0.25.\n",
      "  warnings.warn(\"'n_jobs' was deprecated in version 0.23 and will be\"\n",
      "/opt/anaconda3/lib/python3.8/site-packages/sklearn/cluster/_kmeans.py:973: FutureWarning: 'n_jobs' was deprecated in version 0.23 and will be removed in 0.25.\n",
      "  warnings.warn(\"'n_jobs' was deprecated in version 0.23 and will be\"\n"
     ]
    },
    {
     "name": "stdout",
     "output_type": "stream",
     "text": [
      "KMeans(n_c with k =7: 0.4991\n",
      "Birch(n_cl with k =7: 0.4576\n",
      "Agglomerat with k =7: 0.4701\n",
      "KMeans(n_j with k =8: 0.4686\n"
     ]
    },
    {
     "name": "stderr",
     "output_type": "stream",
     "text": [
      "/opt/anaconda3/lib/python3.8/site-packages/sklearn/cluster/_kmeans.py:973: FutureWarning: 'n_jobs' was deprecated in version 0.23 and will be removed in 0.25.\n",
      "  warnings.warn(\"'n_jobs' was deprecated in version 0.23 and will be\"\n",
      "/opt/anaconda3/lib/python3.8/site-packages/sklearn/cluster/_kmeans.py:973: FutureWarning: 'n_jobs' was deprecated in version 0.23 and will be removed in 0.25.\n",
      "  warnings.warn(\"'n_jobs' was deprecated in version 0.23 and will be\"\n"
     ]
    },
    {
     "name": "stdout",
     "output_type": "stream",
     "text": [
      "Birch(n_cl with k =8: 0.4546\n",
      "Agglomerat with k =8: 0.4276\n",
      "KMeans(n_c with k =9: 0.4494\n",
      "Birch(n_cl with k =9: 0.4388\n",
      "Agglomerat with k =9: 0.4106\n"
     ]
    }
   ],
   "source": [
    "from sklearn import metrics\n",
    "from sklearn.cluster import KMeans\n",
    "from sklearn.cluster import Birch\n",
    "from sklearn.cluster import AgglomerativeClustering\n",
    "\n",
    "#using normalized df to find the best clusting method\n",
    "bestSil = -1\n",
    "for k in range(2,10):\n",
    "    clus = [KMeans(n_clusters=k,n_jobs=-1), Birch(n_clusters=k), \n",
    "            AgglomerativeClustering(n_clusters=k)]\n",
    "    for cl in clus:\n",
    "        res = cl.fit(df_norm)\n",
    "        sil = metrics.silhouette_score(df_norm, res.labels_)\n",
    "        print (str(cl)[:10] + ' with k =' +str(k) + \": \" + str(round(sil,4)))\n",
    "        if (sil > bestSil):\n",
    "            bestSil = sil\n",
    "            bestCl = cl"
   ]
  },
  {
   "cell_type": "markdown",
   "metadata": {},
   "source": [
    "<b>Use the best clustering method</b>"
   ]
  },
  {
   "cell_type": "code",
   "execution_count": 60,
   "metadata": {},
   "outputs": [
    {
     "data": {
      "text/plain": [
       "KMeans(n_clusters=2, n_jobs=-1)"
      ]
     },
     "execution_count": 60,
     "metadata": {},
     "output_type": "execute_result"
    }
   ],
   "source": [
    "bestCl"
   ]
  },
  {
   "cell_type": "code",
   "execution_count": 61,
   "metadata": {},
   "outputs": [
    {
     "data": {
      "text/plain": [
       "0.5599794384444802"
      ]
     },
     "execution_count": 61,
     "metadata": {},
     "output_type": "execute_result"
    }
   ],
   "source": [
    "bestSil"
   ]
  },
  {
   "cell_type": "code",
   "execution_count": 63,
   "metadata": {},
   "outputs": [
    {
     "data": {
      "text/plain": [
       "KMeans(n_clusters=2, random_state=3)"
      ]
     },
     "execution_count": 63,
     "metadata": {},
     "output_type": "execute_result"
    }
   ],
   "source": [
    "clu = KMeans(n_clusters=2,random_state=3)\n",
    "clu.fit(df_norm)"
   ]
  },
  {
   "cell_type": "code",
   "execution_count": 65,
   "metadata": {},
   "outputs": [
    {
     "data": {
      "text/html": [
       "<div>\n",
       "<style scoped>\n",
       "    .dataframe tbody tr th:only-of-type {\n",
       "        vertical-align: middle;\n",
       "    }\n",
       "\n",
       "    .dataframe tbody tr th {\n",
       "        vertical-align: top;\n",
       "    }\n",
       "\n",
       "    .dataframe thead th {\n",
       "        text-align: right;\n",
       "    }\n",
       "</style>\n",
       "<table border=\"1\" class=\"dataframe\">\n",
       "  <thead>\n",
       "    <tr style=\"text-align: right;\">\n",
       "      <th></th>\n",
       "      <th>Age_Awarded</th>\n",
       "      <th>Sex_Female</th>\n",
       "      <th>Sex_Male</th>\n",
       "      <th>Category_Chemistry</th>\n",
       "      <th>Category_Economics</th>\n",
       "      <th>Category_Literature</th>\n",
       "      <th>Category_Medicine</th>\n",
       "      <th>Category_Peace</th>\n",
       "      <th>Category_Physics</th>\n",
       "    </tr>\n",
       "    <tr>\n",
       "      <th>Cluster</th>\n",
       "      <th></th>\n",
       "      <th></th>\n",
       "      <th></th>\n",
       "      <th></th>\n",
       "      <th></th>\n",
       "      <th></th>\n",
       "      <th></th>\n",
       "      <th></th>\n",
       "      <th></th>\n",
       "    </tr>\n",
       "  </thead>\n",
       "  <tbody>\n",
       "    <tr>\n",
       "      <th>0</th>\n",
       "      <td>59.528279</td>\n",
       "      <td>0.0</td>\n",
       "      <td>1.0</td>\n",
       "      <td>0.203369</td>\n",
       "      <td>0.092659</td>\n",
       "      <td>0.119134</td>\n",
       "      <td>0.239471</td>\n",
       "      <td>0.104693</td>\n",
       "      <td>0.240674</td>\n",
       "    </tr>\n",
       "    <tr>\n",
       "      <th>1</th>\n",
       "      <td>58.291667</td>\n",
       "      <td>1.0</td>\n",
       "      <td>0.0</td>\n",
       "      <td>0.062500</td>\n",
       "      <td>0.020833</td>\n",
       "      <td>0.291667</td>\n",
       "      <td>0.250000</td>\n",
       "      <td>0.333333</td>\n",
       "      <td>0.041667</td>\n",
       "    </tr>\n",
       "  </tbody>\n",
       "</table>\n",
       "</div>"
      ],
      "text/plain": [
       "         Age_Awarded  Sex_Female  Sex_Male  Category_Chemistry  \\\n",
       "Cluster                                                          \n",
       "0          59.528279         0.0       1.0            0.203369   \n",
       "1          58.291667         1.0       0.0            0.062500   \n",
       "\n",
       "         Category_Economics  Category_Literature  Category_Medicine  \\\n",
       "Cluster                                                               \n",
       "0                  0.092659             0.119134           0.239471   \n",
       "1                  0.020833             0.291667           0.250000   \n",
       "\n",
       "         Category_Peace  Category_Physics  \n",
       "Cluster                                    \n",
       "0              0.104693          0.240674  \n",
       "1              0.333333          0.041667  "
      ]
     },
     "execution_count": 65,
     "metadata": {},
     "output_type": "execute_result"
    }
   ],
   "source": [
    "df6 = df3.copy()\n",
    "df6['Cluster'] = clu.labels_\n",
    "df6.groupby('Cluster').mean()"
   ]
  },
  {
   "cell_type": "markdown",
   "metadata": {},
   "source": [
    "<b>Findings -</b>\n",
    "Two clusters identified: 59 year-old males, 58 year-old females\n",
    "<li>59 year-old males: Tend to get awarded in Physics or Medicine category</li>\n",
    "<li>58 year-old females: Tend to get awarded in Literature or Medicine categories</li>"
   ]
  }
 ],
 "metadata": {
  "kernelspec": {
   "display_name": "Python 3",
   "language": "python",
   "name": "python3"
  },
  "language_info": {
   "codemirror_mode": {
    "name": "ipython",
    "version": 3
   },
   "file_extension": ".py",
   "mimetype": "text/x-python",
   "name": "python",
   "nbconvert_exporter": "python",
   "pygments_lexer": "ipython3",
   "version": "3.8.3"
  }
 },
 "nbformat": 4,
 "nbformat_minor": 4
}
